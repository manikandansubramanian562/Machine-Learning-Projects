{
 "cells": [
  {
   "cell_type": "markdown",
   "metadata": {},
   "source": [
    "# PROJECT OVERVIEW"
   ]
  },
  {
   "cell_type": "markdown",
   "metadata": {},
   "source": [
    "1.  Measurements of fetal heart rate(FHR) and uterine contraction(UC) features on cardiotocograms.\n",
    "\n",
    "2.  2126 fetal cardiotocograms(CTGs) automatically processed and diagnostic features measured.\n",
    "\n",
    "3. CTGs classified by three expert obstetricians and consensus label as Normal, Suspect, or Pathologic.\n"
   ]
  },
  {
   "cell_type": "markdown",
   "metadata": {},
   "source": [
    "# READ DATA"
   ]
  },
  {
   "cell_type": "markdown",
   "metadata": {},
   "source": [
    "df <- read.csv(\"CTG.csv\")"
   ]
  },
  {
   "cell_type": "code",
   "execution_count": 2,
   "metadata": {},
   "outputs": [
    {
     "data": {
      "text/html": [
       "<table>\n",
       "<thead><tr><th scope=col>LB</th><th scope=col>AC</th><th scope=col>FM</th><th scope=col>UC</th><th scope=col>DL</th><th scope=col>DS</th><th scope=col>DP</th><th scope=col>ASTV</th><th scope=col>MSTV</th><th scope=col>ALTV</th><th scope=col>...</th><th scope=col>Min</th><th scope=col>Max</th><th scope=col>Nmax</th><th scope=col>Nzeros</th><th scope=col>Mode</th><th scope=col>Mean</th><th scope=col>Median</th><th scope=col>Variance</th><th scope=col>Tendency</th><th scope=col>NSP</th></tr></thead>\n",
       "<tbody>\n",
       "\t<tr><td>120        </td><td>0.000000000</td><td>0          </td><td>0.000000000</td><td>0.000000000</td><td>0          </td><td>0.000000000</td><td>73         </td><td>0.5        </td><td>43         </td><td>...        </td><td>62         </td><td>126        </td><td> 2         </td><td>0          </td><td>120        </td><td>137        </td><td>121        </td><td> 73        </td><td>1          </td><td>2          </td></tr>\n",
       "\t<tr><td>132        </td><td>0.006379585</td><td>0          </td><td>0.006379585</td><td>0.003189793</td><td>0          </td><td>0.000000000</td><td>17         </td><td>2.1        </td><td> 0         </td><td>...        </td><td>68         </td><td>198        </td><td> 6         </td><td>1          </td><td>141        </td><td>136        </td><td>140        </td><td> 12        </td><td>0          </td><td>1          </td></tr>\n",
       "\t<tr><td>133        </td><td>0.003322259</td><td>0          </td><td>0.008305648</td><td>0.003322259</td><td>0          </td><td>0.000000000</td><td>16         </td><td>2.1        </td><td> 0         </td><td>...        </td><td>68         </td><td>198        </td><td> 5         </td><td>1          </td><td>141        </td><td>135        </td><td>138        </td><td> 13        </td><td>0          </td><td>1          </td></tr>\n",
       "\t<tr><td>134        </td><td>0.002560819</td><td>0          </td><td>0.007682458</td><td>0.002560819</td><td>0          </td><td>0.000000000</td><td>16         </td><td>2.4        </td><td> 0         </td><td>...        </td><td>53         </td><td>170        </td><td>11         </td><td>0          </td><td>137        </td><td>134        </td><td>137        </td><td> 13        </td><td>1          </td><td>1          </td></tr>\n",
       "\t<tr><td>132        </td><td>0.006514658</td><td>0          </td><td>0.008143322</td><td>0.000000000</td><td>0          </td><td>0.000000000</td><td>16         </td><td>2.4        </td><td> 0         </td><td>...        </td><td>53         </td><td>170        </td><td> 9         </td><td>0          </td><td>137        </td><td>136        </td><td>138        </td><td> 11        </td><td>1          </td><td>1          </td></tr>\n",
       "\t<tr><td>134        </td><td>0.001049318</td><td>0          </td><td>0.010493179</td><td>0.009443861</td><td>0          </td><td>0.002098636</td><td>26         </td><td>5.9        </td><td> 0         </td><td>...        </td><td>50         </td><td>200        </td><td> 5         </td><td>3          </td><td> 76        </td><td>107        </td><td>107        </td><td>170        </td><td>0          </td><td>3          </td></tr>\n",
       "</tbody>\n",
       "</table>\n"
      ],
      "text/latex": [
       "\\begin{tabular}{r|llllllllllllllllllllll}\n",
       " LB & AC & FM & UC & DL & DS & DP & ASTV & MSTV & ALTV & ... & Min & Max & Nmax & Nzeros & Mode & Mean & Median & Variance & Tendency & NSP\\\\\n",
       "\\hline\n",
       "\t 120         & 0.000000000 & 0           & 0.000000000 & 0.000000000 & 0           & 0.000000000 & 73          & 0.5         & 43          & ...         & 62          & 126         &  2          & 0           & 120         & 137         & 121         &  73         & 1           & 2          \\\\\n",
       "\t 132         & 0.006379585 & 0           & 0.006379585 & 0.003189793 & 0           & 0.000000000 & 17          & 2.1         &  0          & ...         & 68          & 198         &  6          & 1           & 141         & 136         & 140         &  12         & 0           & 1          \\\\\n",
       "\t 133         & 0.003322259 & 0           & 0.008305648 & 0.003322259 & 0           & 0.000000000 & 16          & 2.1         &  0          & ...         & 68          & 198         &  5          & 1           & 141         & 135         & 138         &  13         & 0           & 1          \\\\\n",
       "\t 134         & 0.002560819 & 0           & 0.007682458 & 0.002560819 & 0           & 0.000000000 & 16          & 2.4         &  0          & ...         & 53          & 170         & 11          & 0           & 137         & 134         & 137         &  13         & 1           & 1          \\\\\n",
       "\t 132         & 0.006514658 & 0           & 0.008143322 & 0.000000000 & 0           & 0.000000000 & 16          & 2.4         &  0          & ...         & 53          & 170         &  9          & 0           & 137         & 136         & 138         &  11         & 1           & 1          \\\\\n",
       "\t 134         & 0.001049318 & 0           & 0.010493179 & 0.009443861 & 0           & 0.002098636 & 26          & 5.9         &  0          & ...         & 50          & 200         &  5          & 3           &  76         & 107         & 107         & 170         & 0           & 3          \\\\\n",
       "\\end{tabular}\n"
      ],
      "text/markdown": [
       "\n",
       "| LB | AC | FM | UC | DL | DS | DP | ASTV | MSTV | ALTV | ... | Min | Max | Nmax | Nzeros | Mode | Mean | Median | Variance | Tendency | NSP |\n",
       "|---|---|---|---|---|---|---|---|---|---|---|---|---|---|---|---|---|---|---|---|---|\n",
       "| 120         | 0.000000000 | 0           | 0.000000000 | 0.000000000 | 0           | 0.000000000 | 73          | 0.5         | 43          | ...         | 62          | 126         |  2          | 0           | 120         | 137         | 121         |  73         | 1           | 2           |\n",
       "| 132         | 0.006379585 | 0           | 0.006379585 | 0.003189793 | 0           | 0.000000000 | 17          | 2.1         |  0          | ...         | 68          | 198         |  6          | 1           | 141         | 136         | 140         |  12         | 0           | 1           |\n",
       "| 133         | 0.003322259 | 0           | 0.008305648 | 0.003322259 | 0           | 0.000000000 | 16          | 2.1         |  0          | ...         | 68          | 198         |  5          | 1           | 141         | 135         | 138         |  13         | 0           | 1           |\n",
       "| 134         | 0.002560819 | 0           | 0.007682458 | 0.002560819 | 0           | 0.000000000 | 16          | 2.4         |  0          | ...         | 53          | 170         | 11          | 0           | 137         | 134         | 137         |  13         | 1           | 1           |\n",
       "| 132         | 0.006514658 | 0           | 0.008143322 | 0.000000000 | 0           | 0.000000000 | 16          | 2.4         |  0          | ...         | 53          | 170         |  9          | 0           | 137         | 136         | 138         |  11         | 1           | 1           |\n",
       "| 134         | 0.001049318 | 0           | 0.010493179 | 0.009443861 | 0           | 0.002098636 | 26          | 5.9         |  0          | ...         | 50          | 200         |  5          | 3           |  76         | 107         | 107         | 170         | 0           | 3           |\n",
       "\n"
      ],
      "text/plain": [
       "  LB  AC          FM UC          DL          DS DP          ASTV MSTV ALTV ...\n",
       "1 120 0.000000000 0  0.000000000 0.000000000 0  0.000000000 73   0.5  43   ...\n",
       "2 132 0.006379585 0  0.006379585 0.003189793 0  0.000000000 17   2.1   0   ...\n",
       "3 133 0.003322259 0  0.008305648 0.003322259 0  0.000000000 16   2.1   0   ...\n",
       "4 134 0.002560819 0  0.007682458 0.002560819 0  0.000000000 16   2.4   0   ...\n",
       "5 132 0.006514658 0  0.008143322 0.000000000 0  0.000000000 16   2.4   0   ...\n",
       "6 134 0.001049318 0  0.010493179 0.009443861 0  0.002098636 26   5.9   0   ...\n",
       "  Min Max Nmax Nzeros Mode Mean Median Variance Tendency NSP\n",
       "1 62  126  2   0      120  137  121     73      1        2  \n",
       "2 68  198  6   1      141  136  140     12      0        1  \n",
       "3 68  198  5   1      141  135  138     13      0        1  \n",
       "4 53  170 11   0      137  134  137     13      1        1  \n",
       "5 53  170  9   0      137  136  138     11      1        1  \n",
       "6 50  200  5   3       76  107  107    170      0        3  "
      ]
     },
     "metadata": {},
     "output_type": "display_data"
    }
   ],
   "source": [
    "head(df)"
   ]
  },
  {
   "cell_type": "code",
   "execution_count": 3,
   "metadata": {},
   "outputs": [],
   "source": [
    "df$NSP <- as.factor(df$NSP)"
   ]
  },
  {
   "cell_type": "code",
   "execution_count": 4,
   "metadata": {},
   "outputs": [
    {
     "data": {
      "text/plain": [
       "\n",
       "   1    2    3 \n",
       "1655  295  176 "
      ]
     },
     "metadata": {},
     "output_type": "display_data"
    }
   ],
   "source": [
    "table(df$NSP)"
   ]
  },
  {
   "cell_type": "markdown",
   "metadata": {},
   "source": [
    "# DATA PARTITION"
   ]
  },
  {
   "cell_type": "code",
   "execution_count": 9,
   "metadata": {},
   "outputs": [
    {
     "data": {
      "text/html": [
       "<ol class=list-inline>\n",
       "\t<li>1488</li>\n",
       "\t<li>22</li>\n",
       "</ol>\n"
      ],
      "text/latex": [
       "\\begin{enumerate*}\n",
       "\\item 1488\n",
       "\\item 22\n",
       "\\end{enumerate*}\n"
      ],
      "text/markdown": [
       "1. 1488\n",
       "2. 22\n",
       "\n",
       "\n"
      ],
      "text/plain": [
       "[1] 1488   22"
      ]
     },
     "metadata": {},
     "output_type": "display_data"
    },
    {
     "data": {
      "text/html": [
       "<ol class=list-inline>\n",
       "\t<li>638</li>\n",
       "\t<li>22</li>\n",
       "</ol>\n"
      ],
      "text/latex": [
       "\\begin{enumerate*}\n",
       "\\item 638\n",
       "\\item 22\n",
       "\\end{enumerate*}\n"
      ],
      "text/markdown": [
       "1. 638\n",
       "2. 22\n",
       "\n",
       "\n"
      ],
      "text/plain": [
       "[1] 638  22"
      ]
     },
     "metadata": {},
     "output_type": "display_data"
    }
   ],
   "source": [
    "set.seed(123)\n",
    "data= sort(sample(nrow(df),nrow(df)*0.7))\n",
    "train_df <- df[data,]\n",
    "test_df <- df[-data,]\n",
    "dim(train_df)\n",
    "dim(test_df)"
   ]
  },
  {
   "cell_type": "markdown",
   "metadata": {},
   "source": [
    "# RANDOM FOREST MODEL & PLOT"
   ]
  },
  {
   "cell_type": "code",
   "execution_count": 10,
   "metadata": {},
   "outputs": [
    {
     "name": "stderr",
     "output_type": "stream",
     "text": [
      "randomForest 4.6-14\n",
      "Type rfNews() to see new features/changes/bug fixes.\n"
     ]
    }
   ],
   "source": [
    "library(randomForest)"
   ]
  },
  {
   "cell_type": "code",
   "execution_count": 11,
   "metadata": {},
   "outputs": [],
   "source": [
    "rf <- randomForest(NSP~.,data=train_df)"
   ]
  },
  {
   "cell_type": "code",
   "execution_count": 12,
   "metadata": {},
   "outputs": [
    {
     "data": {
      "text/plain": [
       "\n",
       "Call:\n",
       " randomForest(formula = NSP ~ ., data = train_df) \n",
       "               Type of random forest: classification\n",
       "                     Number of trees: 500\n",
       "No. of variables tried at each split: 4\n",
       "\n",
       "        OOB estimate of  error rate: 5.91%\n",
       "Confusion matrix:\n",
       "     1   2   3 class.error\n",
       "1 1153  17   2   0.0162116\n",
       "2   50 145   4   0.2713568\n",
       "3    6   9 102   0.1282051"
      ]
     },
     "metadata": {},
     "output_type": "display_data"
    }
   ],
   "source": [
    "rf"
   ]
  },
  {
   "cell_type": "code",
   "execution_count": 13,
   "metadata": {},
   "outputs": [
    {
     "data": {
      "image/png": "[encoded data removed]",
      "text/plain": [
       "Plot with title \"rf\""
      ]
     },
     "metadata": {},
     "output_type": "display_data"
    }
   ],
   "source": [
    "plot(rf)"
   ]
  },
  {
   "cell_type": "markdown",
   "metadata": {},
   "source": [
    "# ATTRIBUTES OF RF MODEL"
   ]
  },
  {
   "cell_type": "code",
   "execution_count": 14,
   "metadata": {},
   "outputs": [
    {
     "data": {
      "text/html": [
       "<dl>\n",
       "\t<dt>$names</dt>\n",
       "\t\t<dd><ol class=list-inline>\n",
       "\t<li>'call'</li>\n",
       "\t<li>'type'</li>\n",
       "\t<li>'predicted'</li>\n",
       "\t<li>'err.rate'</li>\n",
       "\t<li>'confusion'</li>\n",
       "\t<li>'votes'</li>\n",
       "\t<li>'oob.times'</li>\n",
       "\t<li>'classes'</li>\n",
       "\t<li>'importance'</li>\n",
       "\t<li>'importanceSD'</li>\n",
       "\t<li>'localImportance'</li>\n",
       "\t<li>'proximity'</li>\n",
       "\t<li>'ntree'</li>\n",
       "\t<li>'mtry'</li>\n",
       "\t<li>'forest'</li>\n",
       "\t<li>'y'</li>\n",
       "\t<li>'test'</li>\n",
       "\t<li>'inbag'</li>\n",
       "\t<li>'terms'</li>\n",
       "</ol>\n",
       "</dd>\n",
       "\t<dt>$class</dt>\n",
       "\t\t<dd><ol class=list-inline>\n",
       "\t<li>'randomForest.formula'</li>\n",
       "\t<li>'randomForest'</li>\n",
       "</ol>\n",
       "</dd>\n",
       "</dl>\n"
      ],
      "text/latex": [
       "\\begin{description}\n",
       "\\item[\\$names] \\begin{enumerate*}\n",
       "\\item 'call'\n",
       "\\item 'type'\n",
       "\\item 'predicted'\n",
       "\\item 'err.rate'\n",
       "\\item 'confusion'\n",
       "\\item 'votes'\n",
       "\\item 'oob.times'\n",
       "\\item 'classes'\n",
       "\\item 'importance'\n",
       "\\item 'importanceSD'\n",
       "\\item 'localImportance'\n",
       "\\item 'proximity'\n",
       "\\item 'ntree'\n",
       "\\item 'mtry'\n",
       "\\item 'forest'\n",
       "\\item 'y'\n",
       "\\item 'test'\n",
       "\\item 'inbag'\n",
       "\\item 'terms'\n",
       "\\end{enumerate*}\n",
       "\n",
       "\\item[\\$class] \\begin{enumerate*}\n",
       "\\item 'randomForest.formula'\n",
       "\\item 'randomForest'\n",
       "\\end{enumerate*}\n",
       "\n",
       "\\end{description}\n"
      ],
      "text/markdown": [
       "$names\n",
       ":   1. 'call'\n",
       "2. 'type'\n",
       "3. 'predicted'\n",
       "4. 'err.rate'\n",
       "5. 'confusion'\n",
       "6. 'votes'\n",
       "7. 'oob.times'\n",
       "8. 'classes'\n",
       "9. 'importance'\n",
       "10. 'importanceSD'\n",
       "11. 'localImportance'\n",
       "12. 'proximity'\n",
       "13. 'ntree'\n",
       "14. 'mtry'\n",
       "15. 'forest'\n",
       "16. 'y'\n",
       "17. 'test'\n",
       "18. 'inbag'\n",
       "19. 'terms'\n",
       "\n",
       "\n",
       "\n",
       "$class\n",
       ":   1. 'randomForest.formula'\n",
       "2. 'randomForest'\n",
       "\n",
       "\n",
       "\n",
       "\n",
       "\n"
      ],
      "text/plain": [
       "$names\n",
       " [1] \"call\"            \"type\"            \"predicted\"       \"err.rate\"       \n",
       " [5] \"confusion\"       \"votes\"           \"oob.times\"       \"classes\"        \n",
       " [9] \"importance\"      \"importanceSD\"    \"localImportance\" \"proximity\"      \n",
       "[13] \"ntree\"           \"mtry\"            \"forest\"          \"y\"              \n",
       "[17] \"test\"            \"inbag\"           \"terms\"          \n",
       "\n",
       "$class\n",
       "[1] \"randomForest.formula\" \"randomForest\"        \n"
      ]
     },
     "metadata": {},
     "output_type": "display_data"
    }
   ],
   "source": [
    "attributes(rf)"
   ]
  },
  {
   "cell_type": "code",
   "execution_count": 15,
   "metadata": {},
   "outputs": [
    {
     "data": {
      "text/html": [
       "<table>\n",
       "<thead><tr><th scope=col>1</th><th scope=col>2</th><th scope=col>3</th><th scope=col>class.error</th></tr></thead>\n",
       "<tbody>\n",
       "\t<tr><td>1153     </td><td> 17      </td><td>  2      </td><td>0.0162116</td></tr>\n",
       "\t<tr><td>  50     </td><td>145      </td><td>  4      </td><td>0.2713568</td></tr>\n",
       "\t<tr><td>   6     </td><td>  9      </td><td>102      </td><td>0.1282051</td></tr>\n",
       "</tbody>\n",
       "</table>\n"
      ],
      "text/latex": [
       "\\begin{tabular}{r|llll}\n",
       " 1 & 2 & 3 & class.error\\\\\n",
       "\\hline\n",
       "\t 1153      &  17       &   2       & 0.0162116\\\\\n",
       "\t   50      & 145       &   4       & 0.2713568\\\\\n",
       "\t    6      &   9       & 102       & 0.1282051\\\\\n",
       "\\end{tabular}\n"
      ],
      "text/markdown": [
       "\n",
       "| 1 | 2 | 3 | class.error |\n",
       "|---|---|---|---|\n",
       "| 1153      |  17       |   2       | 0.0162116 |\n",
       "|   50      | 145       |   4       | 0.2713568 |\n",
       "|    6      |   9       | 102       | 0.1282051 |\n",
       "\n"
      ],
      "text/plain": [
       "  1    2   3   class.error\n",
       "1 1153  17   2 0.0162116  \n",
       "2   50 145   4 0.2713568  \n",
       "3    6   9 102 0.1282051  "
      ]
     },
     "metadata": {},
     "output_type": "display_data"
    }
   ],
   "source": [
    "rf$confusion #Confusion matrix"
   ]
  },
  {
   "cell_type": "markdown",
   "metadata": {},
   "source": [
    "# PREDICTION & CONFUSION MATRIX - TRAINING DATA"
   ]
  },
  {
   "cell_type": "code",
   "execution_count": 16,
   "metadata": {},
   "outputs": [],
   "source": [
    "pred <- predict(rf, train_df)"
   ]
  },
  {
   "cell_type": "code",
   "execution_count": 20,
   "metadata": {},
   "outputs": [
    {
     "data": {
      "text/html": [
       "<table>\n",
       "<tbody>\n",
       "\t<tr><th scope=row>1</th><td>2</td><td>2</td></tr>\n",
       "\t<tr><th scope=row>2</th><td>1</td><td>1</td></tr>\n",
       "\t<tr><th scope=row>4</th><td>1</td><td>1</td></tr>\n",
       "\t<tr><th scope=row>6</th><td>3</td><td>3</td></tr>\n",
       "\t<tr><th scope=row>8</th><td>3</td><td>3</td></tr>\n",
       "\t<tr><th scope=row>9</th><td>3</td><td>3</td></tr>\n",
       "</tbody>\n",
       "</table>\n"
      ],
      "text/latex": [
       "\\begin{tabular}{r|ll}\n",
       "\t1 & 2 & 2\\\\\n",
       "\t2 & 1 & 1\\\\\n",
       "\t4 & 1 & 1\\\\\n",
       "\t6 & 3 & 3\\\\\n",
       "\t8 & 3 & 3\\\\\n",
       "\t9 & 3 & 3\\\\\n",
       "\\end{tabular}\n"
      ],
      "text/markdown": [
       "\n",
       "| 1 | 2 | 2 |\n",
       "| 2 | 1 | 1 |\n",
       "| 4 | 1 | 1 |\n",
       "| 6 | 3 | 3 |\n",
       "| 8 | 3 | 3 |\n",
       "| 9 | 3 | 3 |\n",
       "\n"
      ],
      "text/plain": [
       "  [,1] [,2]\n",
       "1 2    2   \n",
       "2 1    1   \n",
       "4 1    1   \n",
       "6 3    3   \n",
       "8 3    3   \n",
       "9 3    3   "
      ]
     },
     "metadata": {},
     "output_type": "display_data"
    }
   ],
   "source": [
    "cbind(head(pred),head(train_df$NSP))"
   ]
  },
  {
   "cell_type": "code",
   "execution_count": 23,
   "metadata": {},
   "outputs": [
    {
     "data": {
      "text/plain": [
       "Confusion Matrix and Statistics\n",
       "\n",
       "          Reference\n",
       "Prediction    1    2    3\n",
       "         1 1172    1    0\n",
       "         2    0  198    0\n",
       "         3    0    0  117\n",
       "\n",
       "Overall Statistics\n",
       "                                     \n",
       "               Accuracy : 0.9993     \n",
       "                 95% CI : (0.9963, 1)\n",
       "    No Information Rate : 0.7876     \n",
       "    P-Value [Acc > NIR] : < 2.2e-16  \n",
       "                                     \n",
       "                  Kappa : 0.9981     \n",
       "                                     \n",
       " Mcnemar's Test P-Value : NA         \n",
       "\n",
       "Statistics by Class:\n",
       "\n",
       "                     Class: 1 Class: 2 Class: 3\n",
       "Sensitivity            1.0000   0.9950  1.00000\n",
       "Specificity            0.9968   1.0000  1.00000\n",
       "Pos Pred Value         0.9991   1.0000  1.00000\n",
       "Neg Pred Value         1.0000   0.9992  1.00000\n",
       "Prevalence             0.7876   0.1337  0.07863\n",
       "Detection Rate         0.7876   0.1331  0.07863\n",
       "Detection Prevalence   0.7883   0.1331  0.07863\n",
       "Balanced Accuracy      0.9984   0.9975  1.00000"
      ]
     },
     "metadata": {},
     "output_type": "display_data"
    }
   ],
   "source": [
    "library(caret)\n",
    "confusionMatrix(pred,train_df$NSP)"
   ]
  },
  {
   "cell_type": "markdown",
   "metadata": {},
   "source": [
    "# PREDICTION & CONFUSION MATRIX - TEST DATA"
   ]
  },
  {
   "cell_type": "code",
   "execution_count": 25,
   "metadata": {},
   "outputs": [],
   "source": [
    "pred_test <- predict(rf, test_df)"
   ]
  },
  {
   "cell_type": "code",
   "execution_count": 26,
   "metadata": {},
   "outputs": [
    {
     "data": {
      "text/plain": [
       "Confusion Matrix and Statistics\n",
       "\n",
       "          Reference\n",
       "Prediction   1   2   3\n",
       "         1 477  24   3\n",
       "         2   5  70   2\n",
       "         3   1   2  54\n",
       "\n",
       "Overall Statistics\n",
       "                                          \n",
       "               Accuracy : 0.942           \n",
       "                 95% CI : (0.9209, 0.9588)\n",
       "    No Information Rate : 0.7571          \n",
       "    P-Value [Acc > NIR] : < 2.2e-16       \n",
       "                                          \n",
       "                  Kappa : 0.8456          \n",
       "                                          \n",
       " Mcnemar's Test P-Value : 0.003761        \n",
       "\n",
       "Statistics by Class:\n",
       "\n",
       "                     Class: 1 Class: 2 Class: 3\n",
       "Sensitivity            0.9876   0.7292  0.91525\n",
       "Specificity            0.8258   0.9871  0.99482\n",
       "Pos Pred Value         0.9464   0.9091  0.94737\n",
       "Neg Pred Value         0.9552   0.9537  0.99139\n",
       "Prevalence             0.7571   0.1505  0.09248\n",
       "Detection Rate         0.7476   0.1097  0.08464\n",
       "Detection Prevalence   0.7900   0.1207  0.08934\n",
       "Balanced Accuracy      0.9067   0.8581  0.95504"
      ]
     },
     "metadata": {},
     "output_type": "display_data"
    }
   ],
   "source": [
    "confusionMatrix(pred_test,test_df$NSP)"
   ]
  },
  {
   "cell_type": "markdown",
   "metadata": {},
   "source": [
    "# TUNING RF MODEL"
   ]
  },
  {
   "cell_type": "code",
   "execution_count": 27,
   "metadata": {},
   "outputs": [
    {
     "name": "stdout",
     "output_type": "stream",
     "text": [
      "mtry = 4  OOB error = 6.12% \n",
      "Searching left ...\n",
      "mtry = 8 \tOOB error = 5.44% \n",
      "0.1098901 0.05 \n",
      "mtry = 16 \tOOB error = 5.91% \n",
      "-0.08641975 0.05 \n",
      "Searching right ...\n",
      "mtry = 2 \tOOB error = 6.85% \n",
      "-0.2592593 0.05 \n"
     ]
    },
    {
     "data": {
      "image/png": "[encoded data removed]",
      "text/plain": [
       "plot without title"
      ]
     },
     "metadata": {},
     "output_type": "display_data"
    }
   ],
   "source": [
    "t <- tuneRF(train_df[,-22], train_df[,22],\n",
    "       stepFactor = 0.5,\n",
    "       plot = TRUE,\n",
    "       ntreeTry = 300,\n",
    "       trace = TRUE,\n",
    "       improve = 0.05)"
   ]
  },
  {
   "cell_type": "markdown",
   "metadata": {},
   "source": [
    "# HISTOGRAM - NUMBER OF NODES FOR THE TREES"
   ]
  },
  {
   "cell_type": "code",
   "execution_count": 28,
   "metadata": {},
   "outputs": [
    {
     "data": {
      "image/png": "[encoded data removed]",
      "text/plain": [
       "Plot with title \"No. of Nodes for the Trees\""
      ]
     },
     "metadata": {},
     "output_type": "display_data"
    }
   ],
   "source": [
    "hist(treesize(rf),\n",
    "     main = \"No. of Nodes for the Trees\",\n",
    "     col = \"green\")"
   ]
  },
  {
   "cell_type": "markdown",
   "metadata": {},
   "source": [
    "# Variable Importance Plot"
   ]
  },
  {
   "cell_type": "code",
   "execution_count": 31,
   "metadata": {},
   "outputs": [
    {
     "data": {
      "image/png": "[encoded data removed]",
      "text/plain": [
       "Plot with title \"Top 10 - Variable Importance\""
      ]
     },
     "metadata": {},
     "output_type": "display_data"
    }
   ],
   "source": [
    "varImpPlot(rf,\n",
    "           sort = T,\n",
    "           n.var = 10,\n",
    "           main = \"Top 10 - Variable Importance\")"
   ]
  },
  {
   "cell_type": "markdown",
   "metadata": {},
   "source": [
    "# Variable Importance"
   ]
  },
  {
   "cell_type": "code",
   "execution_count": 33,
   "metadata": {},
   "outputs": [
    {
     "data": {
      "text/html": [
       "<table>\n",
       "<thead><tr><th></th><th scope=col>MeanDecreaseGini</th></tr></thead>\n",
       "<tbody>\n",
       "\t<tr><th scope=row>LB</th><td>19.1841940</td></tr>\n",
       "\t<tr><th scope=row>AC</th><td>28.8858900</td></tr>\n",
       "\t<tr><th scope=row>FM</th><td>12.7779320</td></tr>\n",
       "\t<tr><th scope=row>UC</th><td>26.3292282</td></tr>\n",
       "\t<tr><th scope=row>DL</th><td> 5.2589319</td></tr>\n",
       "\t<tr><th scope=row>DS</th><td> 0.8153959</td></tr>\n",
       "\t<tr><th scope=row>DP</th><td>28.7409945</td></tr>\n",
       "\t<tr><th scope=row>ASTV</th><td>70.0478219</td></tr>\n",
       "\t<tr><th scope=row>MSTV</th><td>63.8007912</td></tr>\n",
       "\t<tr><th scope=row>ALTV</th><td>62.4130078</td></tr>\n",
       "\t<tr><th scope=row>MLTV</th><td>25.4770320</td></tr>\n",
       "\t<tr><th scope=row>Width</th><td>16.8980213</td></tr>\n",
       "\t<tr><th scope=row>Min</th><td>20.1272989</td></tr>\n",
       "\t<tr><th scope=row>Max</th><td>15.1171630</td></tr>\n",
       "\t<tr><th scope=row>Nmax</th><td> 9.5919331</td></tr>\n",
       "\t<tr><th scope=row>Nzeros</th><td> 2.1148674</td></tr>\n",
       "\t<tr><th scope=row>Mode</th><td>29.6011866</td></tr>\n",
       "\t<tr><th scope=row>Mean</th><td>45.3271470</td></tr>\n",
       "\t<tr><th scope=row>Median</th><td>26.1321420</td></tr>\n",
       "\t<tr><th scope=row>Variance</th><td>14.8007184</td></tr>\n",
       "\t<tr><th scope=row>Tendency</th><td> 4.0591559</td></tr>\n",
       "</tbody>\n",
       "</table>\n"
      ],
      "text/latex": [
       "\\begin{tabular}{r|l}\n",
       "  & MeanDecreaseGini\\\\\n",
       "\\hline\n",
       "\tLB & 19.1841940\\\\\n",
       "\tAC & 28.8858900\\\\\n",
       "\tFM & 12.7779320\\\\\n",
       "\tUC & 26.3292282\\\\\n",
       "\tDL &  5.2589319\\\\\n",
       "\tDS &  0.8153959\\\\\n",
       "\tDP & 28.7409945\\\\\n",
       "\tASTV & 70.0478219\\\\\n",
       "\tMSTV & 63.8007912\\\\\n",
       "\tALTV & 62.4130078\\\\\n",
       "\tMLTV & 25.4770320\\\\\n",
       "\tWidth & 16.8980213\\\\\n",
       "\tMin & 20.1272989\\\\\n",
       "\tMax & 15.1171630\\\\\n",
       "\tNmax &  9.5919331\\\\\n",
       "\tNzeros &  2.1148674\\\\\n",
       "\tMode & 29.6011866\\\\\n",
       "\tMean & 45.3271470\\\\\n",
       "\tMedian & 26.1321420\\\\\n",
       "\tVariance & 14.8007184\\\\\n",
       "\tTendency &  4.0591559\\\\\n",
       "\\end{tabular}\n"
      ],
      "text/markdown": [
       "\n",
       "| <!--/--> | MeanDecreaseGini |\n",
       "|---|---|\n",
       "| LB | 19.1841940 |\n",
       "| AC | 28.8858900 |\n",
       "| FM | 12.7779320 |\n",
       "| UC | 26.3292282 |\n",
       "| DL |  5.2589319 |\n",
       "| DS |  0.8153959 |\n",
       "| DP | 28.7409945 |\n",
       "| ASTV | 70.0478219 |\n",
       "| MSTV | 63.8007912 |\n",
       "| ALTV | 62.4130078 |\n",
       "| MLTV | 25.4770320 |\n",
       "| Width | 16.8980213 |\n",
       "| Min | 20.1272989 |\n",
       "| Max | 15.1171630 |\n",
       "| Nmax |  9.5919331 |\n",
       "| Nzeros |  2.1148674 |\n",
       "| Mode | 29.6011866 |\n",
       "| Mean | 45.3271470 |\n",
       "| Median | 26.1321420 |\n",
       "| Variance | 14.8007184 |\n",
       "| Tendency |  4.0591559 |\n",
       "\n"
      ],
      "text/plain": [
       "         MeanDecreaseGini\n",
       "LB       19.1841940      \n",
       "AC       28.8858900      \n",
       "FM       12.7779320      \n",
       "UC       26.3292282      \n",
       "DL        5.2589319      \n",
       "DS        0.8153959      \n",
       "DP       28.7409945      \n",
       "ASTV     70.0478219      \n",
       "MSTV     63.8007912      \n",
       "ALTV     62.4130078      \n",
       "MLTV     25.4770320      \n",
       "Width    16.8980213      \n",
       "Min      20.1272989      \n",
       "Max      15.1171630      \n",
       "Nmax      9.5919331      \n",
       "Nzeros    2.1148674      \n",
       "Mode     29.6011866      \n",
       "Mean     45.3271470      \n",
       "Median   26.1321420      \n",
       "Variance 14.8007184      \n",
       "Tendency  4.0591559      "
      ]
     },
     "metadata": {},
     "output_type": "display_data"
    }
   ],
   "source": [
    "importance(rf)"
   ]
  },
  {
   "cell_type": "markdown",
   "metadata": {},
   "source": [
    "# Partial Plot - variable ASTV"
   ]
  },
  {
   "cell_type": "code",
   "execution_count": 34,
   "metadata": {},
   "outputs": [
    {
     "data": {
      "image/png": "[encoded data removed]",
      "text/plain": [
       "Plot with title \"Partial Dependence on ASTV\""
      ]
     },
     "metadata": {},
     "output_type": "display_data"
    }
   ],
   "source": [
    "partialPlot(rf, train_df, ASTV, \"1\")"
   ]
  },
  {
   "cell_type": "code",
   "execution_count": 35,
   "metadata": {},
   "outputs": [
    {
     "data": {
      "image/png": "[encoded data removed]",
      "text/plain": [
       "Plot with title \"Partial Dependence on ASTV\""
      ]
     },
     "metadata": {},
     "output_type": "display_data"
    }
   ],
   "source": [
    "partialPlot(rf, train_df, ASTV, \"2\")"
   ]
  },
  {
   "cell_type": "code",
   "execution_count": 36,
   "metadata": {},
   "outputs": [
    {
     "data": {
      "image/png": "[encoded data removed]",
      "text/plain": [
       "Plot with title \"Partial Dependence on ASTV\""
      ]
     },
     "metadata": {},
     "output_type": "display_data"
    }
   ],
   "source": [
    "partialPlot(rf, train_df, ASTV, \"3\")"
   ]
  },
  {
   "cell_type": "markdown",
   "metadata": {},
   "source": [
    "# Extracting single Tree"
   ]
  },
  {
   "cell_type": "code",
   "execution_count": 37,
   "metadata": {},
   "outputs": [
    {
     "data": {
      "text/html": [
       "<table>\n",
       "<thead><tr><th scope=col>left daughter</th><th scope=col>right daughter</th><th scope=col>split var</th><th scope=col>split point</th><th scope=col>status</th><th scope=col>prediction</th></tr></thead>\n",
       "<tbody>\n",
       "\t<tr><td> 2          </td><td> 3          </td><td>Mean        </td><td>1.055000e+02</td><td> 1          </td><td>NA          </td></tr>\n",
       "\t<tr><td> 4          </td><td> 5          </td><td>Max         </td><td>2.340000e+02</td><td> 1          </td><td>NA          </td></tr>\n",
       "\t<tr><td> 6          </td><td> 7          </td><td>AC          </td><td>1.556444e-03</td><td> 1          </td><td>NA          </td></tr>\n",
       "\t<tr><td> 8          </td><td> 9          </td><td>Nmax        </td><td>1.150000e+01</td><td> 1          </td><td>NA          </td></tr>\n",
       "\t<tr><td> 0          </td><td> 0          </td><td>NA          </td><td>0.000000e+00</td><td>-1          </td><td>1           </td></tr>\n",
       "\t<tr><td>10          </td><td>11          </td><td>Mean        </td><td>1.345000e+02</td><td> 1          </td><td>NA          </td></tr>\n",
       "\t<tr><td>12          </td><td>13          </td><td>DP          </td><td>2.220778e-03</td><td> 1          </td><td>NA          </td></tr>\n",
       "\t<tr><td>14          </td><td>15          </td><td>DL          </td><td>1.224609e-02</td><td> 1          </td><td>NA          </td></tr>\n",
       "\t<tr><td> 0          </td><td> 0          </td><td>NA          </td><td>0.000000e+00</td><td>-1          </td><td>1           </td></tr>\n",
       "\t<tr><td>16          </td><td>17          </td><td>Mean        </td><td>1.085000e+02</td><td> 1          </td><td>NA          </td></tr>\n",
       "\t<tr><td>18          </td><td>19          </td><td>UC          </td><td>2.965174e-03</td><td> 1          </td><td>NA          </td></tr>\n",
       "\t<tr><td>20          </td><td>21          </td><td>Variance    </td><td>1.500000e+00</td><td> 1          </td><td>NA          </td></tr>\n",
       "\t<tr><td>22          </td><td>23          </td><td>Mode        </td><td>1.090000e+02</td><td> 1          </td><td>NA          </td></tr>\n",
       "\t<tr><td> 0          </td><td> 0          </td><td>NA          </td><td>0.000000e+00</td><td>-1          </td><td>3           </td></tr>\n",
       "\t<tr><td>24          </td><td>25          </td><td>Nzeros      </td><td>1.500000e+00</td><td> 1          </td><td>NA          </td></tr>\n",
       "\t<tr><td>26          </td><td>27          </td><td>ASTV        </td><td>4.150000e+01</td><td> 1          </td><td>NA          </td></tr>\n",
       "\t<tr><td>28          </td><td>29          </td><td>UC          </td><td>1.592754e-03</td><td> 1          </td><td>NA          </td></tr>\n",
       "\t<tr><td>30          </td><td>31          </td><td>Variance    </td><td>5.000000e-01</td><td> 1          </td><td>NA          </td></tr>\n",
       "\t<tr><td>32          </td><td>33          </td><td>LB          </td><td>1.455000e+02</td><td> 1          </td><td>NA          </td></tr>\n",
       "\t<tr><td>34          </td><td>35          </td><td>Median      </td><td>1.570000e+02</td><td> 1          </td><td>NA          </td></tr>\n",
       "\t<tr><td>36          </td><td>37          </td><td>ALTV        </td><td>2.500000e+01</td><td> 1          </td><td>NA          </td></tr>\n",
       "\t<tr><td> 0          </td><td> 0          </td><td>NA          </td><td>0.000000e+00</td><td>-1          </td><td>3           </td></tr>\n",
       "\t<tr><td> 0          </td><td> 0          </td><td>NA          </td><td>0.000000e+00</td><td>-1          </td><td>2           </td></tr>\n",
       "\t<tr><td> 0          </td><td> 0          </td><td>NA          </td><td>0.000000e+00</td><td>-1          </td><td>1           </td></tr>\n",
       "\t<tr><td> 0          </td><td> 0          </td><td>NA          </td><td>0.000000e+00</td><td>-1          </td><td>3           </td></tr>\n",
       "\t<tr><td> 0          </td><td> 0          </td><td>NA          </td><td>0.000000e+00</td><td>-1          </td><td>2           </td></tr>\n",
       "\t<tr><td> 0          </td><td> 0          </td><td>NA          </td><td>0.000000e+00</td><td>-1          </td><td>3           </td></tr>\n",
       "\t<tr><td>38          </td><td>39          </td><td>ALTV        </td><td>3.750000e+01</td><td> 1          </td><td>NA          </td></tr>\n",
       "\t<tr><td>40          </td><td>41          </td><td>Width       </td><td>1.060000e+02</td><td> 1          </td><td>NA          </td></tr>\n",
       "\t<tr><td>42          </td><td>43          </td><td>ASTV        </td><td>7.850000e+01</td><td> 1          </td><td>NA          </td></tr>\n",
       "\t<tr><td>...</td><td>...</td><td>...</td><td>...</td><td>...</td><td>...</td></tr>\n",
       "\t<tr><td>  0        </td><td>  0        </td><td>NA         </td><td>0.00000e+00</td><td>-1         </td><td>2          </td></tr>\n",
       "\t<tr><td>194        </td><td>195        </td><td>MSTV       </td><td>4.50000e-01</td><td> 1         </td><td>NA         </td></tr>\n",
       "\t<tr><td>  0        </td><td>  0        </td><td>NA         </td><td>0.00000e+00</td><td>-1         </td><td>2          </td></tr>\n",
       "\t<tr><td>  0        </td><td>  0        </td><td>NA         </td><td>0.00000e+00</td><td>-1         </td><td>1          </td></tr>\n",
       "\t<tr><td>  0        </td><td>  0        </td><td>NA         </td><td>0.00000e+00</td><td>-1         </td><td>2          </td></tr>\n",
       "\t<tr><td>  0        </td><td>  0        </td><td>NA         </td><td>0.00000e+00</td><td>-1         </td><td>1          </td></tr>\n",
       "\t<tr><td>196        </td><td>197        </td><td>Median     </td><td>1.31000e+02</td><td> 1         </td><td>NA         </td></tr>\n",
       "\t<tr><td>  0        </td><td>  0        </td><td>NA         </td><td>0.00000e+00</td><td>-1         </td><td>1          </td></tr>\n",
       "\t<tr><td>  0        </td><td>  0        </td><td>NA         </td><td>0.00000e+00</td><td>-1         </td><td>2          </td></tr>\n",
       "\t<tr><td>  0        </td><td>  0        </td><td>NA         </td><td>0.00000e+00</td><td>-1         </td><td>3          </td></tr>\n",
       "\t<tr><td>  0        </td><td>  0        </td><td>NA         </td><td>0.00000e+00</td><td>-1         </td><td>2          </td></tr>\n",
       "\t<tr><td>  0        </td><td>  0        </td><td>NA         </td><td>0.00000e+00</td><td>-1         </td><td>1          </td></tr>\n",
       "\t<tr><td>  0        </td><td>  0        </td><td>NA         </td><td>0.00000e+00</td><td>-1         </td><td>2          </td></tr>\n",
       "\t<tr><td>  0        </td><td>  0        </td><td>NA         </td><td>0.00000e+00</td><td>-1         </td><td>1          </td></tr>\n",
       "\t<tr><td>  0        </td><td>  0        </td><td>NA         </td><td>0.00000e+00</td><td>-1         </td><td>3          </td></tr>\n",
       "\t<tr><td>  0        </td><td>  0        </td><td>NA         </td><td>0.00000e+00</td><td>-1         </td><td>2          </td></tr>\n",
       "\t<tr><td>198        </td><td>199        </td><td>UC         </td><td>4.17014e-04</td><td> 1         </td><td>NA         </td></tr>\n",
       "\t<tr><td>200        </td><td>201        </td><td>LB         </td><td>1.39500e+02</td><td> 1         </td><td>NA         </td></tr>\n",
       "\t<tr><td>  0        </td><td>  0        </td><td>NA         </td><td>0.00000e+00</td><td>-1         </td><td>2          </td></tr>\n",
       "\t<tr><td>  0        </td><td>  0        </td><td>NA         </td><td>0.00000e+00</td><td>-1         </td><td>1          </td></tr>\n",
       "\t<tr><td>  0        </td><td>  0        </td><td>NA         </td><td>0.00000e+00</td><td>-1         </td><td>2          </td></tr>\n",
       "\t<tr><td>  0        </td><td>  0        </td><td>NA         </td><td>0.00000e+00</td><td>-1         </td><td>1          </td></tr>\n",
       "\t<tr><td>  0        </td><td>  0        </td><td>NA         </td><td>0.00000e+00</td><td>-1         </td><td>2          </td></tr>\n",
       "\t<tr><td>202        </td><td>203        </td><td>ASTV       </td><td>5.95000e+01</td><td> 1         </td><td>NA         </td></tr>\n",
       "\t<tr><td>  0        </td><td>  0        </td><td>NA         </td><td>0.00000e+00</td><td>-1         </td><td>1          </td></tr>\n",
       "\t<tr><td>  0        </td><td>  0        </td><td>NA         </td><td>0.00000e+00</td><td>-1         </td><td>2          </td></tr>\n",
       "\t<tr><td>204        </td><td>205        </td><td>Max        </td><td>1.58000e+02</td><td> 1         </td><td>NA         </td></tr>\n",
       "\t<tr><td>  0        </td><td>  0        </td><td>NA         </td><td>0.00000e+00</td><td>-1         </td><td>2          </td></tr>\n",
       "\t<tr><td>  0        </td><td>  0        </td><td>NA         </td><td>0.00000e+00</td><td>-1         </td><td>1          </td></tr>\n",
       "\t<tr><td>  0        </td><td>  0        </td><td>NA         </td><td>0.00000e+00</td><td>-1         </td><td>2          </td></tr>\n",
       "</tbody>\n",
       "</table>\n"
      ],
      "text/latex": [
       "\\begin{tabular}{r|llllll}\n",
       " left daughter & right daughter & split var & split point & status & prediction\\\\\n",
       "\\hline\n",
       "\t  2           &  3           & Mean         & 1.055000e+02 &  1           & NA          \\\\\n",
       "\t  4           &  5           & Max          & 2.340000e+02 &  1           & NA          \\\\\n",
       "\t  6           &  7           & AC           & 1.556444e-03 &  1           & NA          \\\\\n",
       "\t  8           &  9           & Nmax         & 1.150000e+01 &  1           & NA          \\\\\n",
       "\t  0           &  0           & NA           & 0.000000e+00 & -1           & 1           \\\\\n",
       "\t 10           & 11           & Mean         & 1.345000e+02 &  1           & NA          \\\\\n",
       "\t 12           & 13           & DP           & 2.220778e-03 &  1           & NA          \\\\\n",
       "\t 14           & 15           & DL           & 1.224609e-02 &  1           & NA          \\\\\n",
       "\t  0           &  0           & NA           & 0.000000e+00 & -1           & 1           \\\\\n",
       "\t 16           & 17           & Mean         & 1.085000e+02 &  1           & NA          \\\\\n",
       "\t 18           & 19           & UC           & 2.965174e-03 &  1           & NA          \\\\\n",
       "\t 20           & 21           & Variance     & 1.500000e+00 &  1           & NA          \\\\\n",
       "\t 22           & 23           & Mode         & 1.090000e+02 &  1           & NA          \\\\\n",
       "\t  0           &  0           & NA           & 0.000000e+00 & -1           & 3           \\\\\n",
       "\t 24           & 25           & Nzeros       & 1.500000e+00 &  1           & NA          \\\\\n",
       "\t 26           & 27           & ASTV         & 4.150000e+01 &  1           & NA          \\\\\n",
       "\t 28           & 29           & UC           & 1.592754e-03 &  1           & NA          \\\\\n",
       "\t 30           & 31           & Variance     & 5.000000e-01 &  1           & NA          \\\\\n",
       "\t 32           & 33           & LB           & 1.455000e+02 &  1           & NA          \\\\\n",
       "\t 34           & 35           & Median       & 1.570000e+02 &  1           & NA          \\\\\n",
       "\t 36           & 37           & ALTV         & 2.500000e+01 &  1           & NA          \\\\\n",
       "\t  0           &  0           & NA           & 0.000000e+00 & -1           & 3           \\\\\n",
       "\t  0           &  0           & NA           & 0.000000e+00 & -1           & 2           \\\\\n",
       "\t  0           &  0           & NA           & 0.000000e+00 & -1           & 1           \\\\\n",
       "\t  0           &  0           & NA           & 0.000000e+00 & -1           & 3           \\\\\n",
       "\t  0           &  0           & NA           & 0.000000e+00 & -1           & 2           \\\\\n",
       "\t  0           &  0           & NA           & 0.000000e+00 & -1           & 3           \\\\\n",
       "\t 38           & 39           & ALTV         & 3.750000e+01 &  1           & NA          \\\\\n",
       "\t 40           & 41           & Width        & 1.060000e+02 &  1           & NA          \\\\\n",
       "\t 42           & 43           & ASTV         & 7.850000e+01 &  1           & NA          \\\\\n",
       "\t ... & ... & ... & ... & ... & ...\\\\\n",
       "\t   0         &   0         & NA          & 0.00000e+00 & -1          & 2          \\\\\n",
       "\t 194         & 195         & MSTV        & 4.50000e-01 &  1          & NA         \\\\\n",
       "\t   0         &   0         & NA          & 0.00000e+00 & -1          & 2          \\\\\n",
       "\t   0         &   0         & NA          & 0.00000e+00 & -1          & 1          \\\\\n",
       "\t   0         &   0         & NA          & 0.00000e+00 & -1          & 2          \\\\\n",
       "\t   0         &   0         & NA          & 0.00000e+00 & -1          & 1          \\\\\n",
       "\t 196         & 197         & Median      & 1.31000e+02 &  1          & NA         \\\\\n",
       "\t   0         &   0         & NA          & 0.00000e+00 & -1          & 1          \\\\\n",
       "\t   0         &   0         & NA          & 0.00000e+00 & -1          & 2          \\\\\n",
       "\t   0         &   0         & NA          & 0.00000e+00 & -1          & 3          \\\\\n",
       "\t   0         &   0         & NA          & 0.00000e+00 & -1          & 2          \\\\\n",
       "\t   0         &   0         & NA          & 0.00000e+00 & -1          & 1          \\\\\n",
       "\t   0         &   0         & NA          & 0.00000e+00 & -1          & 2          \\\\\n",
       "\t   0         &   0         & NA          & 0.00000e+00 & -1          & 1          \\\\\n",
       "\t   0         &   0         & NA          & 0.00000e+00 & -1          & 3          \\\\\n",
       "\t   0         &   0         & NA          & 0.00000e+00 & -1          & 2          \\\\\n",
       "\t 198         & 199         & UC          & 4.17014e-04 &  1          & NA         \\\\\n",
       "\t 200         & 201         & LB          & 1.39500e+02 &  1          & NA         \\\\\n",
       "\t   0         &   0         & NA          & 0.00000e+00 & -1          & 2          \\\\\n",
       "\t   0         &   0         & NA          & 0.00000e+00 & -1          & 1          \\\\\n",
       "\t   0         &   0         & NA          & 0.00000e+00 & -1          & 2          \\\\\n",
       "\t   0         &   0         & NA          & 0.00000e+00 & -1          & 1          \\\\\n",
       "\t   0         &   0         & NA          & 0.00000e+00 & -1          & 2          \\\\\n",
       "\t 202         & 203         & ASTV        & 5.95000e+01 &  1          & NA         \\\\\n",
       "\t   0         &   0         & NA          & 0.00000e+00 & -1          & 1          \\\\\n",
       "\t   0         &   0         & NA          & 0.00000e+00 & -1          & 2          \\\\\n",
       "\t 204         & 205         & Max         & 1.58000e+02 &  1          & NA         \\\\\n",
       "\t   0         &   0         & NA          & 0.00000e+00 & -1          & 2          \\\\\n",
       "\t   0         &   0         & NA          & 0.00000e+00 & -1          & 1          \\\\\n",
       "\t   0         &   0         & NA          & 0.00000e+00 & -1          & 2          \\\\\n",
       "\\end{tabular}\n"
      ],
      "text/markdown": [
       "\n",
       "| left daughter | right daughter | split var | split point | status | prediction |\n",
       "|---|---|---|---|---|---|\n",
       "|  2           |  3           | Mean         | 1.055000e+02 |  1           | NA           |\n",
       "|  4           |  5           | Max          | 2.340000e+02 |  1           | NA           |\n",
       "|  6           |  7           | AC           | 1.556444e-03 |  1           | NA           |\n",
       "|  8           |  9           | Nmax         | 1.150000e+01 |  1           | NA           |\n",
       "|  0           |  0           | NA           | 0.000000e+00 | -1           | 1            |\n",
       "| 10           | 11           | Mean         | 1.345000e+02 |  1           | NA           |\n",
       "| 12           | 13           | DP           | 2.220778e-03 |  1           | NA           |\n",
       "| 14           | 15           | DL           | 1.224609e-02 |  1           | NA           |\n",
       "|  0           |  0           | NA           | 0.000000e+00 | -1           | 1            |\n",
       "| 16           | 17           | Mean         | 1.085000e+02 |  1           | NA           |\n",
       "| 18           | 19           | UC           | 2.965174e-03 |  1           | NA           |\n",
       "| 20           | 21           | Variance     | 1.500000e+00 |  1           | NA           |\n",
       "| 22           | 23           | Mode         | 1.090000e+02 |  1           | NA           |\n",
       "|  0           |  0           | NA           | 0.000000e+00 | -1           | 3            |\n",
       "| 24           | 25           | Nzeros       | 1.500000e+00 |  1           | NA           |\n",
       "| 26           | 27           | ASTV         | 4.150000e+01 |  1           | NA           |\n",
       "| 28           | 29           | UC           | 1.592754e-03 |  1           | NA           |\n",
       "| 30           | 31           | Variance     | 5.000000e-01 |  1           | NA           |\n",
       "| 32           | 33           | LB           | 1.455000e+02 |  1           | NA           |\n",
       "| 34           | 35           | Median       | 1.570000e+02 |  1           | NA           |\n",
       "| 36           | 37           | ALTV         | 2.500000e+01 |  1           | NA           |\n",
       "|  0           |  0           | NA           | 0.000000e+00 | -1           | 3            |\n",
       "|  0           |  0           | NA           | 0.000000e+00 | -1           | 2            |\n",
       "|  0           |  0           | NA           | 0.000000e+00 | -1           | 1            |\n",
       "|  0           |  0           | NA           | 0.000000e+00 | -1           | 3            |\n",
       "|  0           |  0           | NA           | 0.000000e+00 | -1           | 2            |\n",
       "|  0           |  0           | NA           | 0.000000e+00 | -1           | 3            |\n",
       "| 38           | 39           | ALTV         | 3.750000e+01 |  1           | NA           |\n",
       "| 40           | 41           | Width        | 1.060000e+02 |  1           | NA           |\n",
       "| 42           | 43           | ASTV         | 7.850000e+01 |  1           | NA           |\n",
       "| ... | ... | ... | ... | ... | ... |\n",
       "|   0         |   0         | NA          | 0.00000e+00 | -1          | 2           |\n",
       "| 194         | 195         | MSTV        | 4.50000e-01 |  1          | NA          |\n",
       "|   0         |   0         | NA          | 0.00000e+00 | -1          | 2           |\n",
       "|   0         |   0         | NA          | 0.00000e+00 | -1          | 1           |\n",
       "|   0         |   0         | NA          | 0.00000e+00 | -1          | 2           |\n",
       "|   0         |   0         | NA          | 0.00000e+00 | -1          | 1           |\n",
       "| 196         | 197         | Median      | 1.31000e+02 |  1          | NA          |\n",
       "|   0         |   0         | NA          | 0.00000e+00 | -1          | 1           |\n",
       "|   0         |   0         | NA          | 0.00000e+00 | -1          | 2           |\n",
       "|   0         |   0         | NA          | 0.00000e+00 | -1          | 3           |\n",
       "|   0         |   0         | NA          | 0.00000e+00 | -1          | 2           |\n",
       "|   0         |   0         | NA          | 0.00000e+00 | -1          | 1           |\n",
       "|   0         |   0         | NA          | 0.00000e+00 | -1          | 2           |\n",
       "|   0         |   0         | NA          | 0.00000e+00 | -1          | 1           |\n",
       "|   0         |   0         | NA          | 0.00000e+00 | -1          | 3           |\n",
       "|   0         |   0         | NA          | 0.00000e+00 | -1          | 2           |\n",
       "| 198         | 199         | UC          | 4.17014e-04 |  1          | NA          |\n",
       "| 200         | 201         | LB          | 1.39500e+02 |  1          | NA          |\n",
       "|   0         |   0         | NA          | 0.00000e+00 | -1          | 2           |\n",
       "|   0         |   0         | NA          | 0.00000e+00 | -1          | 1           |\n",
       "|   0         |   0         | NA          | 0.00000e+00 | -1          | 2           |\n",
       "|   0         |   0         | NA          | 0.00000e+00 | -1          | 1           |\n",
       "|   0         |   0         | NA          | 0.00000e+00 | -1          | 2           |\n",
       "| 202         | 203         | ASTV        | 5.95000e+01 |  1          | NA          |\n",
       "|   0         |   0         | NA          | 0.00000e+00 | -1          | 1           |\n",
       "|   0         |   0         | NA          | 0.00000e+00 | -1          | 2           |\n",
       "| 204         | 205         | Max         | 1.58000e+02 |  1          | NA          |\n",
       "|   0         |   0         | NA          | 0.00000e+00 | -1          | 2           |\n",
       "|   0         |   0         | NA          | 0.00000e+00 | -1          | 1           |\n",
       "|   0         |   0         | NA          | 0.00000e+00 | -1          | 2           |\n",
       "\n"
      ],
      "text/plain": [
       "    left daughter right daughter split var split point  status prediction\n",
       "1    2             3             Mean      1.055000e+02  1     NA        \n",
       "2    4             5             Max       2.340000e+02  1     NA        \n",
       "3    6             7             AC        1.556444e-03  1     NA        \n",
       "4    8             9             Nmax      1.150000e+01  1     NA        \n",
       "5    0             0             NA        0.000000e+00 -1     1         \n",
       "6   10            11             Mean      1.345000e+02  1     NA        \n",
       "7   12            13             DP        2.220778e-03  1     NA        \n",
       "8   14            15             DL        1.224609e-02  1     NA        \n",
       "9    0             0             NA        0.000000e+00 -1     1         \n",
       "10  16            17             Mean      1.085000e+02  1     NA        \n",
       "11  18            19             UC        2.965174e-03  1     NA        \n",
       "12  20            21             Variance  1.500000e+00  1     NA        \n",
       "13  22            23             Mode      1.090000e+02  1     NA        \n",
       "14   0             0             NA        0.000000e+00 -1     3         \n",
       "15  24            25             Nzeros    1.500000e+00  1     NA        \n",
       "16  26            27             ASTV      4.150000e+01  1     NA        \n",
       "17  28            29             UC        1.592754e-03  1     NA        \n",
       "18  30            31             Variance  5.000000e-01  1     NA        \n",
       "19  32            33             LB        1.455000e+02  1     NA        \n",
       "20  34            35             Median    1.570000e+02  1     NA        \n",
       "21  36            37             ALTV      2.500000e+01  1     NA        \n",
       "22   0             0             NA        0.000000e+00 -1     3         \n",
       "23   0             0             NA        0.000000e+00 -1     2         \n",
       "24   0             0             NA        0.000000e+00 -1     1         \n",
       "25   0             0             NA        0.000000e+00 -1     3         \n",
       "26   0             0             NA        0.000000e+00 -1     2         \n",
       "27   0             0             NA        0.000000e+00 -1     3         \n",
       "28  38            39             ALTV      3.750000e+01  1     NA        \n",
       "29  40            41             Width     1.060000e+02  1     NA        \n",
       "30  42            43             ASTV      7.850000e+01  1     NA        \n",
       "... ...           ...            ...       ...          ...    ...       \n",
       "176   0             0            NA        0.00000e+00  -1     2         \n",
       "177 194           195            MSTV      4.50000e-01   1     NA        \n",
       "178   0             0            NA        0.00000e+00  -1     2         \n",
       "179   0             0            NA        0.00000e+00  -1     1         \n",
       "180   0             0            NA        0.00000e+00  -1     2         \n",
       "181   0             0            NA        0.00000e+00  -1     1         \n",
       "182 196           197            Median    1.31000e+02   1     NA        \n",
       "183   0             0            NA        0.00000e+00  -1     1         \n",
       "184   0             0            NA        0.00000e+00  -1     2         \n",
       "185   0             0            NA        0.00000e+00  -1     3         \n",
       "186   0             0            NA        0.00000e+00  -1     2         \n",
       "187   0             0            NA        0.00000e+00  -1     1         \n",
       "188   0             0            NA        0.00000e+00  -1     2         \n",
       "189   0             0            NA        0.00000e+00  -1     1         \n",
       "190   0             0            NA        0.00000e+00  -1     3         \n",
       "191   0             0            NA        0.00000e+00  -1     2         \n",
       "192 198           199            UC        4.17014e-04   1     NA        \n",
       "193 200           201            LB        1.39500e+02   1     NA        \n",
       "194   0             0            NA        0.00000e+00  -1     2         \n",
       "195   0             0            NA        0.00000e+00  -1     1         \n",
       "196   0             0            NA        0.00000e+00  -1     2         \n",
       "197   0             0            NA        0.00000e+00  -1     1         \n",
       "198   0             0            NA        0.00000e+00  -1     2         \n",
       "199 202           203            ASTV      5.95000e+01   1     NA        \n",
       "200   0             0            NA        0.00000e+00  -1     1         \n",
       "201   0             0            NA        0.00000e+00  -1     2         \n",
       "202 204           205            Max       1.58000e+02   1     NA        \n",
       "203   0             0            NA        0.00000e+00  -1     2         \n",
       "204   0             0            NA        0.00000e+00  -1     1         \n",
       "205   0             0            NA        0.00000e+00  -1     2         "
      ]
     },
     "metadata": {},
     "output_type": "display_data"
    }
   ],
   "source": [
    "getTree(rf, 1, labelVar = TRUE)"
   ]
  }
 ],
 "metadata": {
  "kernelspec": {
   "display_name": "R",
   "language": "R",
   "name": "ir"
  },
  "language_info": {
   "codemirror_mode": "r",
   "file_extension": ".r",
   "mimetype": "text/x-r-source",
   "name": "R",
   "pygments_lexer": "r",
   "version": "3.6.1"
  }
 },
 "nbformat": 4,
 "nbformat_minor": 2
}
